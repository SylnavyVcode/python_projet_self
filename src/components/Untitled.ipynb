{
 "cells": [
  {
   "cell_type": "code",
   "execution_count": 5,
   "id": "550bccd2-2997-4974-9370-7f57f64af66f",
   "metadata": {},
   "outputs": [],
   "source": [
    "import pandas as pd\n",
    "import numpy as np\n",
    "import matplotlib.pyplot as plt"
   ]
  },
  {
   "cell_type": "code",
   "execution_count": 7,
   "id": "55cdd268-b5d8-44f5-aa34-dcc4dddc9b70",
   "metadata": {},
   "outputs": [
    {
     "data": {
      "text/html": [
       "<div>\n",
       "<style scoped>\n",
       "    .dataframe tbody tr th:only-of-type {\n",
       "        vertical-align: middle;\n",
       "    }\n",
       "\n",
       "    .dataframe tbody tr th {\n",
       "        vertical-align: top;\n",
       "    }\n",
       "\n",
       "    .dataframe thead th {\n",
       "        text-align: right;\n",
       "    }\n",
       "</style>\n",
       "<table border=\"1\" class=\"dataframe\">\n",
       "  <thead>\n",
       "    <tr style=\"text-align: right;\">\n",
       "      <th></th>\n",
       "      <th>identifiant</th>\n",
       "      <th>ville</th>\n",
       "      <th>CP</th>\n",
       "      <th>revenu</th>\n",
       "      <th>remboursement</th>\n",
       "      <th>duree</th>\n",
       "      <th>type</th>\n",
       "      <th>taux</th>\n",
       "    </tr>\n",
       "  </thead>\n",
       "  <tbody>\n",
       "    <tr>\n",
       "      <th>0</th>\n",
       "      <td>0</td>\n",
       "      <td>TOULOUSE</td>\n",
       "      <td>31100</td>\n",
       "      <td>3669.0</td>\n",
       "      <td>1130.05</td>\n",
       "      <td>240</td>\n",
       "      <td>immobilier</td>\n",
       "      <td>1.168</td>\n",
       "    </tr>\n",
       "    <tr>\n",
       "      <th>1</th>\n",
       "      <td>1</td>\n",
       "      <td>PARIS</td>\n",
       "      <td>75009</td>\n",
       "      <td>5310.0</td>\n",
       "      <td>240.00</td>\n",
       "      <td>64</td>\n",
       "      <td>automobile</td>\n",
       "      <td>3.701</td>\n",
       "    </tr>\n",
       "    <tr>\n",
       "      <th>2</th>\n",
       "      <td>1</td>\n",
       "      <td>PARIS</td>\n",
       "      <td>75009</td>\n",
       "      <td>5310.0</td>\n",
       "      <td>1247.85</td>\n",
       "      <td>300</td>\n",
       "      <td>immobilier</td>\n",
       "      <td>1.173</td>\n",
       "    </tr>\n",
       "  </tbody>\n",
       "</table>\n",
       "</div>"
      ],
      "text/plain": [
       "   identifiant     ville     CP  revenu  remboursement  duree        type  \\\n",
       "0            0  TOULOUSE  31100  3669.0        1130.05    240  immobilier   \n",
       "1            1     PARIS  75009  5310.0         240.00     64  automobile   \n",
       "2            1     PARIS  75009  5310.0        1247.85    300  immobilier   \n",
       "\n",
       "    taux  \n",
       "0  1.168  \n",
       "1  3.701  \n",
       "2  1.173  "
      ]
     },
     "execution_count": 7,
     "metadata": {},
     "output_type": "execute_result"
    }
   ],
   "source": [
    "prets = pd.read_csv(\"../files/prets.csv\")\n",
    "prets.head(3)"
   ]
  },
  {
   "cell_type": "code",
   "execution_count": null,
   "id": "ae2076f0-fc2d-40dd-a36b-508a8bdb2135",
   "metadata": {},
   "outputs": [],
   "source": []
  }
 ],
 "metadata": {
  "kernelspec": {
   "display_name": "Python 3 (ipykernel)",
   "language": "python",
   "name": "python3"
  },
  "language_info": {
   "codemirror_mode": {
    "name": "ipython",
    "version": 3
   },
   "file_extension": ".py",
   "mimetype": "text/x-python",
   "name": "python",
   "nbconvert_exporter": "python",
   "pygments_lexer": "ipython3",
   "version": "3.12.4"
  }
 },
 "nbformat": 4,
 "nbformat_minor": 5
}
